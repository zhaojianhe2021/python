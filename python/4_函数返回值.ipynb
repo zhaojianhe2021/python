{
 "cells": [
  {
   "cell_type": "markdown",
   "id": "64c02941",
   "metadata": {},
   "source": [
    "函数执行完以后会返回一个对象，如果函数内部有return就可以返回实际的数值，否则返回None\n",
    "\n",
    "返回类型应该取决于return后面的类型\n",
    "\n",
    "用途：给调用方返回数据\n",
    "\n",
    "return=退出函数"
   ]
  },
  {
   "cell_type": "code",
   "execution_count": 7,
   "id": "2c186547",
   "metadata": {},
   "outputs": [
    {
     "data": {
      "text/plain": [
       "130"
      ]
     },
     "execution_count": 7,
     "metadata": {},
     "output_type": "execute_result"
    }
   ],
   "source": [
    "def Sum(a,b):\n",
    "    sum=a+b\n",
    "    return sum\n",
    "    pass\n",
    "rs=Sum(10,30)#赋值给其他变量\n",
    "Sum(100,30)#函数的返回值返回到调用的地方"
   ]
  },
  {
   "cell_type": "code",
   "execution_count": 30,
   "id": "9cb96353",
   "metadata": {},
   "outputs": [
    {
     "name": "stdout",
     "output_type": "stream",
     "text": [
      "[1]\n",
      "<class 'list'>\n"
     ]
    }
   ],
   "source": [
    "def calComputer(num):\n",
    "    result=0\n",
    "    i=1\n",
    "    li=[]\n",
    "    while i<=num:\n",
    "        result+=i\n",
    "        i+=1\n",
    "        li.append(result)\n",
    "        return li\n",
    "value=calComputer(10)\n",
    "\n",
    "print(value)\n",
    "print(type(value))\n",
    "    "
   ]
  },
  {
   "cell_type": "markdown",
   "id": "23b955a9",
   "metadata": {},
   "source": [
    "# 函数的嵌套"
   ]
  },
  {
   "cell_type": "code",
   "execution_count": 35,
   "id": "778e8cff",
   "metadata": {},
   "outputs": [],
   "source": [
    "def fun1():\n",
    "    print('-------------------fun1 start------------------')\n",
    "    print('-------------fun1 执行代码省略---------------')\n",
    "    print('------------ ------fun1 end-------------------')\n",
    "    pass\n",
    "\n",
    "def fun2():\n",
    "    print('-------------------fun2 start------------------')\n",
    "    fun1() #调用第一个函数  \n",
    "    print('------------- -----fun2 end-------------------')\n",
    "    pass"
   ]
  },
  {
   "cell_type": "code",
   "execution_count": 36,
   "id": "98256a39",
   "metadata": {},
   "outputs": [
    {
     "name": "stdout",
     "output_type": "stream",
     "text": [
      "-------------------fun2 start------------------\n",
      "-------------------fun1 start------------------\n",
      "-------------fun1 执行代码省略---------------\n",
      "------------ ------fun1 end-------------------\n",
      "------------- -----fun2 end-------------------\n"
     ]
    }
   ],
   "source": [
    "fun2()"
   ]
  },
  {
   "cell_type": "code",
   "execution_count": null,
   "id": "97111119",
   "metadata": {},
   "outputs": [],
   "source": []
  }
 ],
 "metadata": {
  "kernelspec": {
   "display_name": "Python 3 (ipykernel)",
   "language": "python",
   "name": "python3"
  },
  "language_info": {
   "codemirror_mode": {
    "name": "ipython",
    "version": 3
   },
   "file_extension": ".py",
   "mimetype": "text/x-python",
   "name": "python",
   "nbconvert_exporter": "python",
   "pygments_lexer": "ipython3",
   "version": "3.9.7"
  }
 },
 "nbformat": 4,
 "nbformat_minor": 5
}

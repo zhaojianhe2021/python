{
 "cells": [
  {
   "cell_type": "code",
   "execution_count": 23,
   "id": "c2837297",
   "metadata": {},
   "outputs": [
    {
     "name": "stdout",
     "output_type": "stream",
     "text": [
      "a的地址：2582358419760\n",
      "x的地址：2582358419760\n",
      "x修改后的地址：2582358419792\n"
     ]
    }
   ],
   "source": [
    "a=1\n",
    "def func(x):\n",
    "    print('x的地址：{}'.format(id(x)))#与a同一个地址\n",
    "    x=2\n",
    "    print('x修改后的地址：{}'.format(id(x)))#新的地址\n",
    "    pass\n",
    "print('a的地址：{}'.format(id(a)))\n",
    "func(a)"
   ]
  },
  {
   "cell_type": "code",
   "execution_count": 27,
   "id": "94d288da",
   "metadata": {},
   "outputs": [
    {
     "name": "stdout",
     "output_type": "stream",
     "text": [
      "2582439011072\n",
      "2582439011072\n",
      "内部的[[1, 3, 4]]\n",
      "{'外部的[[1, 3, 4]]'}\n"
     ]
    }
   ],
   "source": [
    "li=[]\n",
    "def testRenc(parms):\n",
    "    li.append([1,3,4])\n",
    "    print(id(parms))\n",
    "    print('内部的{}'.format(parms))\n",
    "    pass\n",
    "print(id(li))\n",
    "testRenc(li)\n",
    "print({'外部的{}'.format(li)})\n"
   ]
  },
  {
   "cell_type": "markdown",
   "id": "6e881748",
   "metadata": {},
   "source": [
    "小结：\n",
    "\n",
    "1.在python中，万物皆对象，在函数调用的时候，实参传递就是对象的引用\n",
    "\n",
    "2.了解原理后，就可以更好地把控，在函数内部的处理是否会影响函数外部的数据变化\n",
    "\n",
    "3.参数传递是通过对象引用来完成"
   ]
  },
  {
   "cell_type": "code",
   "execution_count": null,
   "id": "04024dc9",
   "metadata": {},
   "outputs": [],
   "source": []
  },
  {
   "cell_type": "code",
   "execution_count": null,
   "id": "90b04962",
   "metadata": {},
   "outputs": [],
   "source": []
  },
  {
   "cell_type": "code",
   "execution_count": null,
   "id": "4a5d8ef2",
   "metadata": {},
   "outputs": [],
   "source": []
  },
  {
   "cell_type": "code",
   "execution_count": null,
   "id": "900a4f75",
   "metadata": {},
   "outputs": [],
   "source": []
  },
  {
   "cell_type": "code",
   "execution_count": null,
   "id": "946bcb46",
   "metadata": {},
   "outputs": [],
   "source": []
  },
  {
   "cell_type": "code",
   "execution_count": null,
   "id": "869ab77a",
   "metadata": {},
   "outputs": [],
   "source": []
  },
  {
   "cell_type": "code",
   "execution_count": null,
   "id": "8a9c987e",
   "metadata": {},
   "outputs": [],
   "source": []
  },
  {
   "cell_type": "code",
   "execution_count": null,
   "id": "1c904606",
   "metadata": {},
   "outputs": [],
   "source": []
  }
 ],
 "metadata": {
  "kernelspec": {
   "display_name": "Python 3 (ipykernel)",
   "language": "python",
   "name": "python3"
  },
  "language_info": {
   "codemirror_mode": {
    "name": "ipython",
    "version": 3
   },
   "file_extension": ".py",
   "mimetype": "text/x-python",
   "name": "python",
   "nbconvert_exporter": "python",
   "pygments_lexer": "ipython3",
   "version": "3.9.7"
  }
 },
 "nbformat": 4,
 "nbformat_minor": 5
}

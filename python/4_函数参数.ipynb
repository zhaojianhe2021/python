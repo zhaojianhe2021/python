{
 "cells": [
  {
   "cell_type": "markdown",
   "id": "491f8036",
   "metadata": {},
   "source": [
    "def 函数名（）:\n",
    "    \n",
    "    函数体（一系列函数语句，表示独立的功能）\n",
    "    \n",
    "函数的调用：\n",
    "\n",
    "    本质上就是去执行函数定义里面的代码块"
   ]
  },
  {
   "cell_type": "code",
   "execution_count": 22,
   "id": "129bffa4",
   "metadata": {},
   "outputs": [],
   "source": [
    "def printinput(name,height,weight,hobby,pro):\n",
    "    print('%s身高是%i'%(name,height))\n",
    "    print('%s体重是%i'%(name,weight))\n",
    "    print('%s爱好是%s'%(name,hobby))\n",
    "    print('%s专业是%s'%(name,pro))\n",
    "    pass"
   ]
  },
  {
   "cell_type": "code",
   "execution_count": 23,
   "id": "80b6c67f",
   "metadata": {},
   "outputs": [
    {
     "name": "stdout",
     "output_type": "stream",
     "text": [
      "赵建贺身高是180\n",
      "赵建贺体重是80\n",
      "赵建贺爱好是打游戏\n",
      "赵建贺专业是工科\n"
     ]
    }
   ],
   "source": [
    "printinput(name='赵建贺',height=180,weight=80,hobby='打游戏',pro='工科')"
   ]
  },
  {
   "cell_type": "markdown",
   "id": "a867c912",
   "metadata": {},
   "source": [
    "# 参数的分类\n",
    "\n",
    "必选参数、默认参数【缺省参数】、可选参数、关键字参数\n",
    "\n",
    "参数：其实就是函数为了实现某项特定的功能，进而为了得到实现功能所需要的数据"
   ]
  },
  {
   "cell_type": "code",
   "execution_count": 27,
   "id": "38318814",
   "metadata": {},
   "outputs": [],
   "source": [
    "#1.必选参数\n",
    "def sum(a,b):#形式参数，形参：只是意义上的一种参数，在定义的时候是不占用内存地址的，仅仅占坑，没有意义\n",
    "    sum=a+b\n",
    "    print(sum)\n",
    "    pass"
   ]
  },
  {
   "cell_type": "code",
   "execution_count": 29,
   "id": "c9d0891c",
   "metadata": {},
   "outputs": [
    {
     "name": "stdout",
     "output_type": "stream",
     "text": [
      "3\n"
     ]
    }
   ],
   "source": [
    "sum(1,2)#实际参数，实参：实实在在的参数，是实际占用内存地址的，存在实际意义"
   ]
  },
  {
   "cell_type": "code",
   "execution_count": 32,
   "id": "3b07acab",
   "metadata": {},
   "outputs": [],
   "source": [
    "#2.默认参数\n",
    "def sun1(a=10,b=20):\n",
    "    print('默认参数使用=%d'%(a+b))\n",
    "    pass"
   ]
  },
  {
   "cell_type": "code",
   "execution_count": 34,
   "id": "7d225b49",
   "metadata": {},
   "outputs": [
    {
     "name": "stdout",
     "output_type": "stream",
     "text": [
      "默认参数使用=30\n"
     ]
    }
   ],
   "source": [
    "sun1()"
   ]
  },
  {
   "cell_type": "code",
   "execution_count": 35,
   "id": "e3ff4e79",
   "metadata": {},
   "outputs": [
    {
     "name": "stdout",
     "output_type": "stream",
     "text": [
      "默认参数使用=120\n"
     ]
    }
   ],
   "source": [
    "sun1(a=100)"
   ]
  },
  {
   "cell_type": "code",
   "execution_count": 68,
   "id": "08aa81b2",
   "metadata": {},
   "outputs": [
    {
     "name": "stdout",
     "output_type": "stream",
     "text": [
      "6\n"
     ]
    }
   ],
   "source": [
    "#3.可选参数，当参数的个数不确定是使用，比较灵活\n",
    "#接受的数据类型是字典类型\n",
    "def getComputer(*args):#可变长的参数\n",
    "    '''\n",
    "    计算累加和\n",
    "    '''\n",
    "    result=0\n",
    "    for item in args:\n",
    "        result+=item\n",
    "        pass\n",
    "    print(result)\n",
    "    pass\n",
    "getComputer(1,2,3)"
   ]
  },
  {
   "cell_type": "code",
   "execution_count": 66,
   "id": "03752c81",
   "metadata": {},
   "outputs": [
    {
     "name": "stdout",
     "output_type": "stream",
     "text": [
      "{'name': 'zjh', 'age': 28}\n"
     ]
    }
   ],
   "source": [
    "#4.关键字可变参数：在函数体内，参数关键字是一个字典类型 key是一个字符串\n",
    "def keyFunc(**kwargs):\n",
    "    print(kwargs)\n",
    "    pass\n",
    "dictA={'name':'zjh','age':28}\n",
    "keyFunc(**dictA)"
   ]
  },
  {
   "cell_type": "code",
   "execution_count": 54,
   "id": "75ef26b7",
   "metadata": {},
   "outputs": [
    {
     "name": "stdout",
     "output_type": "stream",
     "text": [
      "{'name': 'peter', 'age': 26}\n"
     ]
    }
   ],
   "source": [
    "keyFunc(name='peter',age=26)#以键值对的方式传参数"
   ]
  },
  {
   "cell_type": "code",
   "execution_count": 65,
   "id": "43337908",
   "metadata": {},
   "outputs": [
    {
     "name": "stdout",
     "output_type": "stream",
     "text": [
      "(1, 2, 3)\n",
      "{'name': '刘德华'}\n"
     ]
    }
   ],
   "source": [
    "def compleFunc(*args,**kwargs):\n",
    "    print(args)\n",
    "    print(kwargs)\n",
    "    pass\n",
    "compleFunc(1,2,3,name='刘德华')"
   ]
  }
 ],
 "metadata": {
  "kernelspec": {
   "display_name": "Python 3 (ipykernel)",
   "language": "python",
   "name": "python3"
  },
  "language_info": {
   "codemirror_mode": {
    "name": "ipython",
    "version": 3
   },
   "file_extension": ".py",
   "mimetype": "text/x-python",
   "name": "python",
   "nbconvert_exporter": "python",
   "pygments_lexer": "ipython3",
   "version": "3.9.7"
  }
 },
 "nbformat": 4,
 "nbformat_minor": 5
}

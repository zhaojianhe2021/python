{
 "cells": [
  {
   "cell_type": "code",
   "execution_count": 2,
   "id": "6fc4bc68",
   "metadata": {},
   "outputs": [
    {
     "name": "stdout",
     "output_type": "stream",
     "text": [
      "狼牙月伊人憔悴\n"
     ]
    }
   ],
   "source": [
    "#z字符串合并合并\n",
    "strA='狼牙月'\n",
    "strB='伊人憔悴'\n",
    "print(strA+strB)"
   ]
  },
  {
   "cell_type": "code",
   "execution_count": 3,
   "id": "27722223",
   "metadata": {},
   "outputs": [
    {
     "name": "stdout",
     "output_type": "stream",
     "text": [
      "[0, 1, 2, 3, 4, 5, 6, 7, 8, 9, 10, 11, 12, 13, 14, 15, 16, 17, 18, 19]\n"
     ]
    }
   ],
   "source": [
    "#列表合并\n",
    "listA=list(range(10))\n",
    "listB=list(range(10,20))\n",
    "print(listA+listB)"
   ]
  },
  {
   "cell_type": "code",
   "execution_count": 6,
   "id": "6a865927",
   "metadata": {},
   "outputs": [
    {
     "name": "stdout",
     "output_type": "stream",
     "text": [
      "狼牙月狼牙月狼牙月\n",
      "[0, 1, 2, 3, 4, 5, 6, 7, 8, 9, 0, 1, 2, 3, 4, 5, 6, 7, 8, 9, 0, 1, 2, 3, 4, 5, 6, 7, 8, 9]\n"
     ]
    }
   ],
   "source": [
    "#复制 *\n",
    "print(strA*3)\n",
    "print(listA*3)"
   ]
  },
  {
   "cell_type": "code",
   "execution_count": 9,
   "id": "f5082b97",
   "metadata": {},
   "outputs": [
    {
     "name": "stdout",
     "output_type": "stream",
     "text": [
      "True\n"
     ]
    }
   ],
   "source": [
    "# in 判断对象是否存在,结果是布尔值\n",
    "print(1 in listA)"
   ]
  },
  {
   "cell_type": "code",
   "execution_count": null,
   "id": "7064d02c",
   "metadata": {},
   "outputs": [],
   "source": []
  }
 ],
 "metadata": {
  "kernelspec": {
   "display_name": "Python 3 (ipykernel)",
   "language": "python",
   "name": "python3"
  },
  "language_info": {
   "codemirror_mode": {
    "name": "ipython",
    "version": 3
   },
   "file_extension": ".py",
   "mimetype": "text/x-python",
   "name": "python",
   "nbconvert_exporter": "python",
   "pygments_lexer": "ipython3",
   "version": "3.9.7"
  }
 },
 "nbformat": 4,
 "nbformat_minor": 5
}

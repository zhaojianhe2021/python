{
 "cells": [
  {
   "cell_type": "markdown",
   "id": "7b713b70",
   "metadata": {},
   "source": [
    "元组是一种不可变得序列，在创建之后不能做任何的修改\n",
    "     \n",
    "     1.不可变\n",
    "     \n",
    "     2.用小括号创建元组类型，数据项用逗号分割\n",
    "     \n",
    "     3.可以是任何的类型\n",
    "     \n",
    "     4.当元组中只有一个元素时，要加上逗号，不然解释器会当做整型来处理\n",
    "    \n",
    "     5.同样支持切片操作"
   ]
  },
  {
   "cell_type": "code",
   "execution_count": 14,
   "id": "8518280b",
   "metadata": {},
   "outputs": [
    {
     "name": "stdout",
     "output_type": "stream",
     "text": [
      "<class 'tuple'>\n",
      "('abcd', 89, 9.12, 'peter', [11, 22, 33])\n"
     ]
    }
   ],
   "source": [
    "# 创建元组,不可变，没有添加，删除，修改等操作\n",
    "tupleA=()\n",
    "tupleA=('abcd',89,9.12,'peter',[11,22,33])\n",
    "print(type(tupleA))\n",
    "print(tupleA)"
   ]
  },
  {
   "cell_type": "code",
   "execution_count": 15,
   "id": "b41bfe51",
   "metadata": {},
   "outputs": [
    {
     "name": "stdout",
     "output_type": "stream",
     "text": [
      "abcd 89 9.12 peter [11, 22, 33] "
     ]
    }
   ],
   "source": [
    "#元组的查询,通过for循环遍历\n",
    "for item in tupleA:\n",
    "    print(item,end=\" \")"
   ]
  },
  {
   "cell_type": "code",
   "execution_count": 16,
   "id": "87af5856",
   "metadata": {},
   "outputs": [
    {
     "name": "stdout",
     "output_type": "stream",
     "text": [
      "9.12\n",
      "(89, 9.12)\n"
     ]
    }
   ],
   "source": [
    "#取值\n",
    "print(tupleA[2])\n",
    "print(tupleA[1:3])"
   ]
  },
  {
   "cell_type": "code",
   "execution_count": 18,
   "id": "45ca77f0",
   "metadata": {},
   "outputs": [
    {
     "name": "stdout",
     "output_type": "stream",
     "text": [
      "([11, 22, 33], 'peter', 9.12, 89, 'abcd')\n",
      "([11, 22, 33], 9.12, 'abcd')\n",
      "('peter',)\n"
     ]
    }
   ],
   "source": [
    "print(tupleA[::-1])#倒序取值 \n",
    "print(tupleA[::-2])\n",
    "print(tupleA[-2:-1:])#倒着取下标 -2到-1区间的值"
   ]
  },
  {
   "cell_type": "code",
   "execution_count": 19,
   "id": "e69a7abd",
   "metadata": {},
   "outputs": [
    {
     "name": "stdout",
     "output_type": "stream",
     "text": [
      "<class 'list'>\n"
     ]
    }
   ],
   "source": [
    "print(type(tupleA[4]))"
   ]
  },
  {
   "cell_type": "code",
   "execution_count": 23,
   "id": "98f8093e",
   "metadata": {},
   "outputs": [
    {
     "data": {
      "text/plain": [
       "('abcd', 89, 9.12, 'peter', [3.1415926563, 22, 33])"
      ]
     },
     "execution_count": 23,
     "metadata": {},
     "output_type": "execute_result"
    }
   ],
   "source": [
    "tupleA[4][0]=3.1415926563 #修改元组中列表中的值\n",
    "tupleA"
   ]
  },
  {
   "cell_type": "code",
   "execution_count": 29,
   "id": "30d25d99",
   "metadata": {},
   "outputs": [
    {
     "name": "stdout",
     "output_type": "stream",
     "text": [
      "<class 'tuple'>\n"
     ]
    }
   ],
   "source": [
    "tupleB=('1',)#当元组中只有一个值的时候，需要在后面加逗号，否则不是元组类型\n",
    "print(type(tupleB))"
   ]
  },
  {
   "cell_type": "code",
   "execution_count": 34,
   "id": "8cec31d3",
   "metadata": {},
   "outputs": [
    {
     "name": "stdout",
     "output_type": "stream",
     "text": [
      "(0, 1, 2, 3, 4)\n",
      "1\n"
     ]
    }
   ],
   "source": [
    "tupleC=tuple(range(5))\n",
    "print(tupleC)\n",
    "print(tupleC.count(4))#可以统计元素出现的次数"
   ]
  },
  {
   "cell_type": "code",
   "execution_count": null,
   "id": "1efab75f",
   "metadata": {},
   "outputs": [],
   "source": []
  }
 ],
 "metadata": {
  "kernelspec": {
   "display_name": "Python 3 (ipykernel)",
   "language": "python",
   "name": "python3"
  },
  "language_info": {
   "codemirror_mode": {
    "name": "ipython",
    "version": 3
   },
   "file_extension": ".py",
   "mimetype": "text/x-python",
   "name": "python",
   "nbconvert_exporter": "python",
   "pygments_lexer": "ipython3",
   "version": "3.9.7"
  }
 },
 "nbformat": 4,
 "nbformat_minor": 5
}

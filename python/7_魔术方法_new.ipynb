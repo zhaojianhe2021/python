{
 "cells": [
  {
   "cell_type": "markdown",
   "id": "db448f86",
   "metadata": {},
   "source": [
    "创建并返回一个实例对象，调用了一次就会得到一个对象"
   ]
  },
  {
   "cell_type": "code",
   "execution_count": 4,
   "id": "b43ae00c",
   "metadata": {},
   "outputs": [],
   "source": [
    "class people:\n",
    "    \n",
    "    def __init__(self,name,sex,age):#python中已经内置好的：魔术方法\n",
    "        '''\n",
    "        实例属性的传参\n",
    "        '''\n",
    "        self.name=name#给一个初始值\n",
    "        self.sex=sex\n",
    "        self.age=age\n",
    "        print('----init----函数执行')\n",
    "        pass\n",
    "    def __str__(self):\n",
    "        return('%s性别是%s，今年%s岁了'%(self.name,self.sex,self.age))\n",
    "    def __new__(cls,*args,**kwargs): #  new至少有一个参数是cls，代表实例化的类，此参数再实例化时由python解释器自动提供\n",
    "        '''\n",
    "        创建实例化的方法，每调用一次就会生成一个新的对象的class\n",
    "        '''\n",
    "        print('----new----函数执行')\n",
    "        return object.__new__(cls) # ---------------------------------在这里是真正创建对象实例的----------------------------------------------\n",
    "        pass\n",
    "    \n",
    "    pass"
   ]
  },
  {
   "cell_type": "code",
   "execution_count": 5,
   "id": "2c9ef215",
   "metadata": {},
   "outputs": [
    {
     "name": "stdout",
     "output_type": "stream",
     "text": [
      "----new----函数执行\n",
      "----init----函数执行\n",
      "xiaoming性别是nv，今年18岁了\n"
     ]
    }
   ],
   "source": [
    "xm=people('xiaoming','nv',18)\n",
    "print(xm)"
   ]
  },
  {
   "cell_type": "code",
   "execution_count": null,
   "id": "17e39a1d",
   "metadata": {},
   "outputs": [],
   "source": [
    "先执行new，创建对象，再执行init （有对象再执行）"
   ]
  }
 ],
 "metadata": {
  "kernelspec": {
   "display_name": "Python 3 (ipykernel)",
   "language": "python",
   "name": "python3"
  },
  "language_info": {
   "codemirror_mode": {
    "name": "ipython",
    "version": 3
   },
   "file_extension": ".py",
   "mimetype": "text/x-python",
   "name": "python",
   "nbconvert_exporter": "python",
   "pygments_lexer": "ipython3",
   "version": "3.9.7"
  }
 },
 "nbformat": 4,
 "nbformat_minor": 5
}

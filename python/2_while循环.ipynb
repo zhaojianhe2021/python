{
 "cells": [
  {
   "cell_type": "code",
   "execution_count": 2,
   "id": "7deb600d",
   "metadata": {},
   "outputs": [
    {
     "name": "stdout",
     "output_type": "stream",
     "text": [
      "9*1= 9\t9*2=18\t9*3=27\t9*4=36\t9*5=45\t9*6=54\t9*7=63\t9*8=72\t9*9=81\t\n",
      "8*1= 8\t8*2=16\t8*3=24\t8*4=32\t8*5=40\t8*6=48\t8*7=56\t8*8=64\t\n",
      "7*1= 7\t7*2=14\t7*3=21\t7*4=28\t7*5=35\t7*6=42\t7*7=49\t\n",
      "6*1= 6\t6*2=12\t6*3=18\t6*4=24\t6*5=30\t6*6=36\t\n",
      "5*1= 5\t5*2=10\t5*3=15\t5*4=20\t5*5=25\t\n",
      "4*1= 4\t4*2= 8\t4*3=12\t4*4=16\t\n",
      "3*1= 3\t3*2= 6\t3*3= 9\t\n",
      "2*1= 2\t2*2= 4\t\n",
      "1*1= 1\t\n"
     ]
    }
   ],
   "source": [
    "row = 9\n",
    "while row >= 1:\n",
    "    col = 1    \n",
    "    while col <= row:\n",
    "        print('%d*%d=%2d\\t'%(row,col,row*col),end='')     \n",
    "        col +=1    \n",
    "    row -= 1    \n",
    "    print() "
   ]
  },
  {
   "cell_type": "code",
   "execution_count": 7,
   "id": "1067175e",
   "metadata": {},
   "outputs": [
    {
     "name": "stdout",
     "output_type": "stream",
     "text": [
      "     *\n",
      "    ***\n",
      "   *****\n",
      "  *******\n",
      " *********\n"
     ]
    }
   ],
   "source": [
    "#等腰三角形\n",
    "row=1\n",
    "while row<=5:\n",
    "    col=1\n",
    "    while col<=1:\n",
    "        k=(5-row)\n",
    "        print((' ')*k,'*'*(2*row-1))\n",
    "        col+=1\n",
    "        pass\n",
    "    row+=1\n",
    "    \n",
    "    "
   ]
  },
  {
   "cell_type": "code",
   "execution_count": 16,
   "id": "7d5ddd3a",
   "metadata": {},
   "outputs": [
    {
     "name": "stdout",
     "output_type": "stream",
     "text": [
      "^^^^*\n",
      "^^^***\n",
      "^^*****\n",
      "^*******\n",
      "*********\n"
     ]
    }
   ],
   "source": [
    "row=1\n",
    "while row<=5:\n",
    "    j = 1\n",
    "    while j<=5-row:\n",
    "        print('^',end='')\n",
    "        j+=1\n",
    "        pass\n",
    "    k=1\n",
    "    while k<=2*row-1:\n",
    "        print('*',end='')\n",
    "        k+=1\n",
    "        pass\n",
    "    print(\n",
    "    )\n",
    "    row+=1"
   ]
  },
  {
   "cell_type": "code",
   "execution_count": 10,
   "id": "5bc938b7",
   "metadata": {},
   "outputs": [
    {
     "name": "stdout",
     "output_type": "stream",
     "text": [
      "* \n",
      "* * \n",
      "* * * \n",
      "* * * * \n",
      "* * * * * \n"
     ]
    }
   ],
   "source": [
    "i = 1 \n",
    "while i <= 5:    \n",
    "    j=1    \n",
    "    while j <=i:        \n",
    "        print('*',end=\" \")        \n",
    "        j += 1    \n",
    "    print(\n",
    "    )    \n",
    "    i += 1 "
   ]
  },
  {
   "cell_type": "code",
   "execution_count": null,
   "id": "129c8bd9",
   "metadata": {},
   "outputs": [],
   "source": []
  }
 ],
 "metadata": {
  "kernelspec": {
   "display_name": "Python 3 (ipykernel)",
   "language": "python",
   "name": "python3"
  },
  "language_info": {
   "codemirror_mode": {
    "name": "ipython",
    "version": 3
   },
   "file_extension": ".py",
   "mimetype": "text/x-python",
   "name": "python",
   "nbconvert_exporter": "python",
   "pygments_lexer": "ipython3",
   "version": "3.9.7"
  }
 },
 "nbformat": 4,
 "nbformat_minor": 5
}

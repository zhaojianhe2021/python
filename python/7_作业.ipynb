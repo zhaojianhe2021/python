{
 "cells": [
  {
   "cell_type": "code",
   "execution_count": 7,
   "id": "ed0c3400",
   "metadata": {},
   "outputs": [],
   "source": [
    "class Student:\n",
    "    def run(self):\n",
    "        print('每天跑步')\n",
    "    \n",
    "    pass"
   ]
  },
  {
   "cell_type": "code",
   "execution_count": 8,
   "id": "d3f28150",
   "metadata": {},
   "outputs": [
    {
     "name": "stdout",
     "output_type": "stream",
     "text": [
      "每天跑步\n"
     ]
    }
   ],
   "source": [
    "xiaoli=Student()\n",
    "xiaoli.run()"
   ]
  },
  {
   "cell_type": "code",
   "execution_count": 17,
   "id": "440a17ab",
   "metadata": {},
   "outputs": [],
   "source": [
    "class fruit:\n",
    "    def __init__(self,name,color):\n",
    "        self.name=name\n",
    "        self.color=color\n",
    "    def __str__(self):\n",
    "        return('%s的颜色是%s'%(self.name,self.color))"
   ]
  },
  {
   "cell_type": "code",
   "execution_count": 18,
   "id": "34301cce",
   "metadata": {},
   "outputs": [
    {
     "name": "stdout",
     "output_type": "stream",
     "text": [
      "苹果的颜色是红色\n"
     ]
    }
   ],
   "source": [
    "apple=fruit('苹果','红色')\n",
    "print(apple)"
   ]
  },
  {
   "cell_type": "code",
   "execution_count": 20,
   "id": "08e8263c",
   "metadata": {},
   "outputs": [
    {
     "name": "stdout",
     "output_type": "stream",
     "text": [
      "橘子的颜色是橙色\n"
     ]
    }
   ],
   "source": [
    "orange=fruit('橘子','橙色')\n",
    "print(orange)"
   ]
  },
  {
   "cell_type": "code",
   "execution_count": 23,
   "id": "59b816f3",
   "metadata": {},
   "outputs": [],
   "source": [
    "class chankan:\n",
    "    def shabi(self):\n",
    "        print('地址是%s'%id(self))\n",
    "        pass\n",
    "    pass"
   ]
  },
  {
   "cell_type": "code",
   "execution_count": 30,
   "id": "35d2e24d",
   "metadata": {},
   "outputs": [
    {
     "name": "stdout",
     "output_type": "stream",
     "text": [
      "地址是2091622500528\n",
      "2091622500528\n"
     ]
    }
   ],
   "source": [
    "dizhi=chankan()\n",
    "dizhi.shabi()\n",
    "print(id(dizhi))"
   ]
  },
  {
   "cell_type": "code",
   "execution_count": 28,
   "id": "c64123f0",
   "metadata": {},
   "outputs": [
    {
     "ename": "NameError",
     "evalue": "name 'shabi' is not defined",
     "output_type": "error",
     "traceback": [
      "\u001b[1;31m---------------------------------------------------------------------------\u001b[0m",
      "\u001b[1;31mNameError\u001b[0m                                 Traceback (most recent call last)",
      "\u001b[1;32m~\\AppData\\Local\\Temp/ipykernel_900/3246161993.py\u001b[0m in \u001b[0;36m<module>\u001b[1;34m\u001b[0m\n\u001b[1;32m----> 1\u001b[1;33m \u001b[0mprint\u001b[0m\u001b[1;33m(\u001b[0m\u001b[0mshabi\u001b[0m\u001b[1;33m)\u001b[0m\u001b[1;33m\u001b[0m\u001b[1;33m\u001b[0m\u001b[0m\n\u001b[0m",
      "\u001b[1;31mNameError\u001b[0m: name 'shabi' is not defined"
     ]
    }
   ],
   "source": []
  },
  {
   "cell_type": "code",
   "execution_count": null,
   "id": "645145c8",
   "metadata": {},
   "outputs": [],
   "source": []
  },
  {
   "cell_type": "code",
   "execution_count": null,
   "id": "8bb7ea5d",
   "metadata": {},
   "outputs": [],
   "source": []
  },
  {
   "cell_type": "code",
   "execution_count": null,
   "id": "9a40e70f",
   "metadata": {},
   "outputs": [],
   "source": []
  },
  {
   "cell_type": "code",
   "execution_count": null,
   "id": "74fab357",
   "metadata": {},
   "outputs": [],
   "source": []
  },
  {
   "cell_type": "code",
   "execution_count": null,
   "id": "6c898ebb",
   "metadata": {},
   "outputs": [],
   "source": []
  },
  {
   "cell_type": "code",
   "execution_count": null,
   "id": "aee1e474",
   "metadata": {},
   "outputs": [],
   "source": []
  }
 ],
 "metadata": {
  "kernelspec": {
   "display_name": "Python 3 (ipykernel)",
   "language": "python",
   "name": "python3"
  },
  "language_info": {
   "codemirror_mode": {
    "name": "ipython",
    "version": 3
   },
   "file_extension": ".py",
   "mimetype": "text/x-python",
   "name": "python",
   "nbconvert_exporter": "python",
   "pygments_lexer": "ipython3",
   "version": "3.9.7"
  }
 },
 "nbformat": 4,
 "nbformat_minor": 5
}
